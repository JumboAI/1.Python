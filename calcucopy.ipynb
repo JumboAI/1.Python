{
 "cells": [
  {
   "cell_type": "code",
   "execution_count": 4,
   "metadata": {},
   "outputs": [],
   "source": [
    "from calcu import Calculation"
   ]
  },
  {
   "cell_type": "code",
   "execution_count": 6,
   "metadata": {},
   "outputs": [
    {
     "name": "stdout",
     "output_type": "stream",
     "text": [
      "Your Gender:(Male/Female):Male\n",
      "Your Age:45\n",
      "Elegible\n"
     ]
    }
   ],
   "source": [
    "Calculation.Elegible()"
   ]
  },
  {
   "cell_type": "code",
   "execution_count": 7,
   "metadata": {},
   "outputs": [
    {
     "name": "stdout",
     "output_type": "stream",
     "text": [
      "Height:6\n",
      "Breadth:6\n",
      "Area Formula:(Height*Breadth)/2\n",
      "Area of Triangle: 18.0\n",
      "Height1:7\n",
      "Height2:8\n",
      "Base:6\n",
      "Perimeter formula:Height1+Height2+Base\n",
      "Perimeter of Triangle: 21\n"
     ]
    }
   ],
   "source": [
    "Calculation.Triangle()"
   ]
  },
  {
   "cell_type": "code",
   "execution_count": 8,
   "metadata": {},
   "outputs": [
    {
     "name": "stdout",
     "output_type": "stream",
     "text": [
      "Subject1=67\n",
      "Subject2=67\n",
      "Subject3=67\n",
      "Subject4=54\n",
      "Subject5=34\n",
      "Total: 289\n",
      "Percentage: 57.8\n"
     ]
    }
   ],
   "source": [
    "Calculation.Percentage()"
   ]
  },
  {
   "cell_type": "code",
   "execution_count": null,
   "metadata": {},
   "outputs": [],
   "source": []
  }
 ],
 "metadata": {
  "kernelspec": {
   "display_name": "Python 3",
   "language": "python",
   "name": "python3"
  },
  "language_info": {
   "codemirror_mode": {
    "name": "ipython",
    "version": 3
   },
   "file_extension": ".py",
   "mimetype": "text/x-python",
   "name": "python",
   "nbconvert_exporter": "python",
   "pygments_lexer": "ipython3",
   "version": "3.7.4"
  }
 },
 "nbformat": 4,
 "nbformat_minor": 2
}
