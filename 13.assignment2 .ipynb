{
 "cells": [
  {
   "cell_type": "code",
   "execution_count": 1,
   "metadata": {},
   "outputs": [
    {
     "name": "stdout",
     "output_type": "stream",
     "text": [
      "hi\n"
     ]
    }
   ],
   "source": [
    "print (\"hi\")"
   ]
  },
  {
   "cell_type": "code",
   "execution_count": 3,
   "metadata": {},
   "outputs": [
    {
     "name": "stdout",
     "output_type": "stream",
     "text": [
      "Enter the BMI Index:17\n",
      "Underweight\n"
     ]
    }
   ],
   "source": [
    "bmi=int(input(\"Enter the BMI Index:\"))\n",
    "if(bmi<18.5):\n",
    "    print(\"Underweight\")\n",
    "elif(bmi>=18.5 and bmi<24.9):\n",
    "    print(\"Normal Range\")\n",
    "elif(bmi>=25 and bmi<29.9):\n",
    "    print(\"Overweight\")\n",
    "elif (bmi>=30):\n",
    "    print(\"Obese\")"
   ]
  },
  {
   "cell_type": "code",
   "execution_count": 41,
   "metadata": {},
   "outputs": [
    {
     "name": "stdout",
     "output_type": "stream",
     "text": [
      "Enter the BMI Index:50\n",
      "Obese III\n"
     ]
    }
   ],
   "source": [
    "bmi=float(input(\"Enter the BMI Index:\"))\n",
    "if(bmi<18.5):\n",
    "    print(\"Underweight\")\n",
    "elif(bmi>=18.5 and bmi<24.9):\n",
    "    print(\"Normal Range\")\n",
    "elif(bmi>=25 and bmi<29.9):\n",
    "    print(\"Overweight\")\n",
    "elif (bmi<=30):\n",
    "    print(\"Obese\")\n",
    "elif(bmi>30.0 and bmi<34.9):\n",
    "    print(\"Obese I\")\n",
    "elif(bmi>=35 and bmi<39.9):\n",
    "    print(\"Obese II\")\n",
    "else:\n",
    "    print(\"Obese III\")\n",
    "    \n"
   ]
  },
  {
   "cell_type": "markdown",
   "metadata": {},
   "source": []
  }
 ],
 "metadata": {
  "kernelspec": {
   "display_name": "Python 3",
   "language": "python",
   "name": "python3"
  },
  "language_info": {
   "codemirror_mode": {
    "name": "ipython",
    "version": 3
   },
   "file_extension": ".py",
   "mimetype": "text/x-python",
   "name": "python",
   "nbconvert_exporter": "python",
   "pygments_lexer": "ipython3",
   "version": "3.7.4"
  }
 },
 "nbformat": 4,
 "nbformat_minor": 2
}
