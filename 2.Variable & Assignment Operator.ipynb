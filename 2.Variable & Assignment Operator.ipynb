{
 "cells": [
  {
   "cell_type": "code",
   "execution_count": 1,
   "metadata": {},
   "outputs": [
    {
     "name": "stdout",
     "output_type": "stream",
     "text": [
      "add\n",
      "40\n"
     ]
    }
   ],
   "source": [
    "num1=10\n",
    "num2=30\n",
    "add=num1+num2\n",
    "print (\"add\")\n",
    "print (add)"
   ]
  },
  {
   "cell_type": "code",
   "execution_count": 2,
   "metadata": {},
   "outputs": [],
   "source": [
    "First_Name=\"Rajeshwari Nadarajan\""
   ]
  },
  {
   "cell_type": "code",
   "execution_count": 3,
   "metadata": {},
   "outputs": [],
   "source": [
    "First_Name=\"Rajeshwari Nadarajan\"\n",
    "First_Name=\"Hi\""
   ]
  },
  {
   "cell_type": "code",
   "execution_count": 4,
   "metadata": {},
   "outputs": [
    {
     "ename": "NameError",
     "evalue": "name 'first_name' is not defined",
     "output_type": "error",
     "traceback": [
      "\u001b[1;31m---------------------------------------------------------------------------\u001b[0m",
      "\u001b[1;31mNameError\u001b[0m                                 Traceback (most recent call last)",
      "\u001b[1;32m<ipython-input-4-9c68eb7f6952>\u001b[0m in \u001b[0;36m<module>\u001b[1;34m\u001b[0m\n\u001b[0;32m      1\u001b[0m \u001b[0mFirst_Name\u001b[0m\u001b[1;33m=\u001b[0m\u001b[1;34m\"Rajeshwari Nadarajan\"\u001b[0m\u001b[1;33m\u001b[0m\u001b[1;33m\u001b[0m\u001b[0m\n\u001b[0;32m      2\u001b[0m \u001b[0mLast_Name\u001b[0m\u001b[1;33m=\u001b[0m\u001b[1;34m\"Hi\"\u001b[0m\u001b[1;33m\u001b[0m\u001b[1;33m\u001b[0m\u001b[0m\n\u001b[1;32m----> 3\u001b[1;33m \u001b[0mprint\u001b[0m \u001b[1;33m(\u001b[0m\u001b[0mfirst_name\u001b[0m\u001b[1;33m)\u001b[0m\u001b[1;33m\u001b[0m\u001b[1;33m\u001b[0m\u001b[0m\n\u001b[0m",
      "\u001b[1;31mNameError\u001b[0m: name 'first_name' is not defined"
     ]
    }
   ],
   "source": [
    "First_Name=\"Rajeshwari Nadarajan\"\n",
    "Last_Name=\"Hi\"\n",
    "print (first_name)"
   ]
  },
  {
   "cell_type": "code",
   "execution_count": 5,
   "metadata": {},
   "outputs": [
    {
     "name": "stdout",
     "output_type": "stream",
     "text": [
      "Rajeshwari Nadarajan\n"
     ]
    }
   ],
   "source": [
    "First_Name=\"Rajeshwari Nadarajan\"\n",
    "Last_Name=\"Hi\"\n",
    "print (First_Name)"
   ]
  },
  {
   "cell_type": "code",
   "execution_count": 6,
   "metadata": {},
   "outputs": [
    {
     "name": "stdout",
     "output_type": "stream",
     "text": [
      "The Addition of Two Numbers\n",
      "The Number 1: 10\n"
     ]
    }
   ],
   "source": [
    "print(\"The Addition of Two Numbers\")\n",
    "Num1= 10\n",
    "print(\"The Number 1:\",num1)"
   ]
  },
  {
   "cell_type": "code",
   "execution_count": 7,
   "metadata": {},
   "outputs": [
    {
     "name": "stdout",
     "output_type": "stream",
     "text": [
      "The Addition of Two Numbers\n",
      "The Number 1: 10\n",
      "The Number 2: 30\n"
     ]
    }
   ],
   "source": [
    "print(\"The Addition of Two Numbers\")\n",
    "Num1= 10\n",
    "print(\"The Number 1:\",num1)\n",
    "Num2=20\n",
    "print (\"The Number 2:\",num2)"
   ]
  },
  {
   "cell_type": "code",
   "execution_count": 8,
   "metadata": {},
   "outputs": [
    {
     "ename": "SyntaxError",
     "evalue": "invalid syntax (<ipython-input-8-ba0a884c6ef4>, line 6)",
     "output_type": "error",
     "traceback": [
      "\u001b[1;36m  File \u001b[1;32m\"<ipython-input-8-ba0a884c6ef4>\"\u001b[1;36m, line \u001b[1;32m6\u001b[0m\n\u001b[1;33m    print (\"The Answer\"; num1+1num2)\u001b[0m\n\u001b[1;37m                       ^\u001b[0m\n\u001b[1;31mSyntaxError\u001b[0m\u001b[1;31m:\u001b[0m invalid syntax\n"
     ]
    }
   ],
   "source": [
    "print(\"The Addition of Two Numbers\")\n",
    "Num1= 10\n",
    "print(\"The Number 1:\",num1)\n",
    "Num2=20\n",
    "print (\"The Number 2:\",num2)\n",
    "print (\"The Answer\"; num1+1num2)"
   ]
  },
  {
   "cell_type": "code",
   "execution_count": 9,
   "metadata": {},
   "outputs": [
    {
     "ename": "SyntaxError",
     "evalue": "invalid syntax (<ipython-input-9-f62e67f2d6f8>, line 6)",
     "output_type": "error",
     "traceback": [
      "\u001b[1;36m  File \u001b[1;32m\"<ipython-input-9-f62e67f2d6f8>\"\u001b[1;36m, line \u001b[1;32m6\u001b[0m\n\u001b[1;33m    print (\"The Answer\": num1+1num2)\u001b[0m\n\u001b[1;37m                       ^\u001b[0m\n\u001b[1;31mSyntaxError\u001b[0m\u001b[1;31m:\u001b[0m invalid syntax\n"
     ]
    }
   ],
   "source": [
    "print(\"The Addition of Two Numbers\")\n",
    "Num1= 10\n",
    "print(\"The Number 1:\",num1)\n",
    "Num2=20\n",
    "print (\"The Number 2:\",num2)\n",
    "print (\"The Answer\": num1+1num2)"
   ]
  },
  {
   "cell_type": "code",
   "execution_count": 10,
   "metadata": {},
   "outputs": [
    {
     "ename": "SyntaxError",
     "evalue": "invalid syntax (<ipython-input-10-2c2ffc630053>, line 6)",
     "output_type": "error",
     "traceback": [
      "\u001b[1;36m  File \u001b[1;32m\"<ipython-input-10-2c2ffc630053>\"\u001b[1;36m, line \u001b[1;32m6\u001b[0m\n\u001b[1;33m    print (\"The Answer:\", num1+1num2)\u001b[0m\n\u001b[1;37m                                   ^\u001b[0m\n\u001b[1;31mSyntaxError\u001b[0m\u001b[1;31m:\u001b[0m invalid syntax\n"
     ]
    }
   ],
   "source": [
    "print(\"The Addition of Two Numbers\")\n",
    "Num1= 10\n",
    "print(\"The Number 1:\",num1)\n",
    "Num2=20\n",
    "print (\"The Number 2:\",num2)\n",
    "print (\"The Answer:\", num1+1num2)"
   ]
  },
  {
   "cell_type": "code",
   "execution_count": 11,
   "metadata": {},
   "outputs": [
    {
     "name": "stdout",
     "output_type": "stream",
     "text": [
      "The Addition of Two Numbers\n",
      "The Number 1: 10\n",
      "The Number 2: 30\n",
      "The Answer: 40\n"
     ]
    }
   ],
   "source": [
    "print(\"The Addition of Two Numbers\")\n",
    "Num1= 10\n",
    "print(\"The Number 1:\",num1)\n",
    "Num2=20\n",
    "print (\"The Number 2:\",num2)\n",
    "print (\"The Answer:\", num1+num2)"
   ]
  },
  {
   "cell_type": "code",
   "execution_count": 12,
   "metadata": {},
   "outputs": [
    {
     "name": "stdout",
     "output_type": "stream",
     "text": [
      "The Addition of Two Numbers\n",
      "The Number 1: 10\n",
      "The Number 2: 30\n",
      "The Answer: 40\n"
     ]
    }
   ],
   "source": [
    "print(\"The Addition of Two Numbers\")\n",
    "Num1= 10\n",
    "print(\"The Number 1:\",num1)\n",
    "Num2=20\n",
    "print (\"The Number 2:\",num2)\n",
    "add=num1+num2\n",
    "print(\"The Answer:\",add)"
   ]
  },
  {
   "cell_type": "code",
   "execution_count": 13,
   "metadata": {},
   "outputs": [
    {
     "name": "stdout",
     "output_type": "stream",
     "text": [
      "add: 40\n"
     ]
    }
   ],
   "source": [
    "num1=10\n",
    "num2=30\n",
    "add=num1+num2\n",
    "print (\"add:\",add)"
   ]
  },
  {
   "cell_type": "code",
   "execution_count": 1,
   "metadata": {},
   "outputs": [
    {
     "ename": "NameError",
     "evalue": "name 'Rajeshwari' is not defined",
     "output_type": "error",
     "traceback": [
      "\u001b[1;31m---------------------------------------------------------------------------\u001b[0m",
      "\u001b[1;31mNameError\u001b[0m                                 Traceback (most recent call last)",
      "\u001b[1;32m<ipython-input-1-dfa53d3ffd45>\u001b[0m in \u001b[0;36m<module>\u001b[1;34m\u001b[0m\n\u001b[1;32m----> 1\u001b[1;33m \u001b[0mFirst_Name\u001b[0m\u001b[1;33m:\u001b[0m\u001b[0mRajeshwari\u001b[0m\u001b[1;33m\u001b[0m\u001b[1;33m\u001b[0m\u001b[0m\n\u001b[0m\u001b[0;32m      2\u001b[0m \u001b[0mLast_Name\u001b[0m\u001b[1;33m:\u001b[0m\u001b[0mNadarajan\u001b[0m\u001b[1;33m\u001b[0m\u001b[1;33m\u001b[0m\u001b[0m\n\u001b[0;32m      3\u001b[0m \u001b[0mprint\u001b[0m \u001b[1;33m(\u001b[0m\u001b[0mFirst_Name\u001b[0m\u001b[1;33m+\u001b[0m \u001b[0mLast_Name\u001b[0m\u001b[1;33m)\u001b[0m\u001b[1;33m\u001b[0m\u001b[1;33m\u001b[0m\u001b[0m\n",
      "\u001b[1;31mNameError\u001b[0m: name 'Rajeshwari' is not defined"
     ]
    }
   ],
   "source": [
    "First_Name:Rajeshwari\n",
    "Last_Name:Nadarajan\n",
    "print (First_Name+ Last_Name)"
   ]
  },
  {
   "cell_type": "code",
   "execution_count": 2,
   "metadata": {},
   "outputs": [
    {
     "ename": "NameError",
     "evalue": "name 'Rajeshwari' is not defined",
     "output_type": "error",
     "traceback": [
      "\u001b[1;31m---------------------------------------------------------------------------\u001b[0m",
      "\u001b[1;31mNameError\u001b[0m                                 Traceback (most recent call last)",
      "\u001b[1;32m<ipython-input-2-0f49d6be4903>\u001b[0m in \u001b[0;36m<module>\u001b[1;34m\u001b[0m\n\u001b[1;32m----> 1\u001b[1;33m \u001b[0mFirst_Name\u001b[0m\u001b[1;33m:\u001b[0m\u001b[0mRajeshwari\u001b[0m\u001b[1;33m\u001b[0m\u001b[1;33m\u001b[0m\u001b[0m\n\u001b[0m\u001b[0;32m      2\u001b[0m \u001b[0mLast_Name\u001b[0m\u001b[1;33m:\u001b[0m\u001b[0mNadarajan\u001b[0m\u001b[1;33m\u001b[0m\u001b[1;33m\u001b[0m\u001b[0m\n\u001b[0;32m      3\u001b[0m \u001b[0mprint\u001b[0m \u001b[1;33m(\u001b[0m\u001b[0mFirst_Name\u001b[0m\u001b[1;33m,\u001b[0m\u001b[0mLast_Name\u001b[0m\u001b[1;33m)\u001b[0m\u001b[1;33m\u001b[0m\u001b[1;33m\u001b[0m\u001b[0m\n",
      "\u001b[1;31mNameError\u001b[0m: name 'Rajeshwari' is not defined"
     ]
    }
   ],
   "source": [
    "First_Name:Rajeshwari\n",
    "Last_Name:Nadarajan\n",
    "print (First_Name,Last_Name)"
   ]
  },
  {
   "cell_type": "code",
   "execution_count": 3,
   "metadata": {},
   "outputs": [
    {
     "ename": "NameError",
     "evalue": "name 'First_Name' is not defined",
     "output_type": "error",
     "traceback": [
      "\u001b[1;31m---------------------------------------------------------------------------\u001b[0m",
      "\u001b[1;31mNameError\u001b[0m                                 Traceback (most recent call last)",
      "\u001b[1;32m<ipython-input-3-4f635d08ba55>\u001b[0m in \u001b[0;36m<module>\u001b[1;34m\u001b[0m\n\u001b[0;32m      1\u001b[0m \u001b[0mFirst_Name\u001b[0m\u001b[1;33m:\u001b[0m\u001b[1;34m\"Rajeshwari\"\u001b[0m\u001b[1;33m\u001b[0m\u001b[1;33m\u001b[0m\u001b[0m\n\u001b[0;32m      2\u001b[0m \u001b[0mLast_Name\u001b[0m\u001b[1;33m:\u001b[0m\u001b[1;34m\"Nadarajan\"\u001b[0m\u001b[1;33m\u001b[0m\u001b[1;33m\u001b[0m\u001b[0m\n\u001b[1;32m----> 3\u001b[1;33m \u001b[0mprint\u001b[0m \u001b[1;33m(\u001b[0m\u001b[0mFirst_Name\u001b[0m\u001b[1;33m,\u001b[0m\u001b[0mLast_Name\u001b[0m\u001b[1;33m)\u001b[0m\u001b[1;33m\u001b[0m\u001b[1;33m\u001b[0m\u001b[0m\n\u001b[0m",
      "\u001b[1;31mNameError\u001b[0m: name 'First_Name' is not defined"
     ]
    }
   ],
   "source": [
    "First_Name:\"Rajeshwari\"\n",
    "Last_Name:\"Nadarajan\"\n",
    "print (First_Name,Last_Name)"
   ]
  },
  {
   "cell_type": "code",
   "execution_count": 4,
   "metadata": {},
   "outputs": [
    {
     "ename": "NameError",
     "evalue": "name 'First_Name' is not defined",
     "output_type": "error",
     "traceback": [
      "\u001b[1;31m---------------------------------------------------------------------------\u001b[0m",
      "\u001b[1;31mNameError\u001b[0m                                 Traceback (most recent call last)",
      "\u001b[1;32m<ipython-input-4-cfc779da72e2>\u001b[0m in \u001b[0;36m<module>\u001b[1;34m\u001b[0m\n\u001b[0;32m      1\u001b[0m \u001b[0mFirst_Name\u001b[0m\u001b[1;33m:\u001b[0m\u001b[1;34m\"Rajeshwari\"\u001b[0m\u001b[1;33m\u001b[0m\u001b[1;33m\u001b[0m\u001b[0m\n\u001b[0;32m      2\u001b[0m \u001b[0mLast_Name\u001b[0m\u001b[1;33m:\u001b[0m\u001b[1;34m\"Nadarajan\"\u001b[0m\u001b[1;33m\u001b[0m\u001b[1;33m\u001b[0m\u001b[0m\n\u001b[1;32m----> 3\u001b[1;33m \u001b[0mprint\u001b[0m \u001b[1;33m(\u001b[0m\u001b[0mFirst_Name\u001b[0m\u001b[1;33m)\u001b[0m\u001b[1;33m\u001b[0m\u001b[1;33m\u001b[0m\u001b[0m\n\u001b[0m",
      "\u001b[1;31mNameError\u001b[0m: name 'First_Name' is not defined"
     ]
    }
   ],
   "source": [
    "First_Name:\"Rajeshwari\"\n",
    "Last_Name:\"Nadarajan\"\n",
    "print (First_Name)"
   ]
  },
  {
   "cell_type": "code",
   "execution_count": 5,
   "metadata": {},
   "outputs": [
    {
     "name": "stdout",
     "output_type": "stream",
     "text": [
      "Rajeshwari\n"
     ]
    }
   ],
   "source": [
    "First_Name=\"Rajeshwari\"\n",
    "print(First_Name)"
   ]
  },
  {
   "cell_type": "code",
   "execution_count": 6,
   "metadata": {},
   "outputs": [
    {
     "name": "stdout",
     "output_type": "stream",
     "text": [
      "RajeshwariNadarajan\n"
     ]
    }
   ],
   "source": [
    "First_Name=\"Rajeshwari\"\n",
    "Last_Name=\" Nadarajan\"\n",
    "print(First_Name + Last_Name)"
   ]
  },
  {
   "cell_type": "code",
   "execution_count": 7,
   "metadata": {},
   "outputs": [
    {
     "name": "stdout",
     "output_type": "stream",
     "text": [
      "Rajeshwari Nadarajan\n"
     ]
    }
   ],
   "source": [
    "First_Name=\"Rajeshwari\"\n",
    "Last_Name=\" Nadarajan\"\n",
    "print(First_Name + Last_Name)"
   ]
  },
  {
   "cell_type": "code",
   "execution_count": 8,
   "metadata": {},
   "outputs": [
    {
     "name": "stdout",
     "output_type": "stream",
     "text": [
      "HI: Rajeshwari Nadarajan\n"
     ]
    }
   ],
   "source": [
    "First_Name:\"Rajeshwari\"\n",
    "Last_Name: \" Nadarajan\"\n",
    "print (\"HI:\",First_Name + Last_Name)"
   ]
  },
  {
   "cell_type": "code",
   "execution_count": null,
   "metadata": {},
   "outputs": [],
   "source": []
  }
 ],
 "metadata": {
  "kernelspec": {
   "display_name": "Python 3",
   "language": "python",
   "name": "python3"
  },
  "language_info": {
   "codemirror_mode": {
    "name": "ipython",
    "version": 3
   },
   "file_extension": ".py",
   "mimetype": "text/x-python",
   "name": "python",
   "nbconvert_exporter": "python",
   "pygments_lexer": "ipython3",
   "version": "3.7.4"
  }
 },
 "nbformat": 4,
 "nbformat_minor": 2
}
