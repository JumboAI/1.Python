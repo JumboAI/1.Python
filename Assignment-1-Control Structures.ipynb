{
 "cells": [
  {
   "cell_type": "code",
   "execution_count": 1,
   "metadata": {},
   "outputs": [
    {
     "name": "stdout",
     "output_type": "stream",
     "text": [
      "Welcome to Assignment-1\n"
     ]
    }
   ],
   "source": [
    "print (\"Welcome to Assignment-1\")\n"
   ]
  },
  {
   "cell_type": "code",
   "execution_count": 5,
   "metadata": {},
   "outputs": [
    {
     "name": "stdout",
     "output_type": "stream",
     "text": [
      "40\n"
     ]
    }
   ],
   "source": [
    "num1=10\n",
    "num2=30\n",
    "num3=(num1+num2)\n",
    "print(num3)\n"
   ]
  },
  {
   "cell_type": "code",
   "execution_count": 21,
   "metadata": {},
   "outputs": [
    {
     "name": "stdout",
     "output_type": "stream",
     "text": [
      "Enter your weight in kg:38\n",
      "Enter your height in cm:160\n",
      "Your BMI is:14.843749999999996\n",
      "Underweight\n"
     ]
    }
   ],
   "source": [
    "weight=float(input(\"Enter your weight in kg:\"))\n",
    "height=float(input(\"Enter your height in cm:\"))\n",
    "bmi=weight/(height/100)**2\n",
    "print(f\"Your BMI is:{bmi}\")\n",
    "if bmi<=18.4:\n",
    "    print(\"Underweight\")\n",
    "elif bmi<=24.9:\n",
    "    print(\"Normal Range\")\n",
    "elif bmi<=29.9:\n",
    "    print(\"Overweight\")\n",
    "elif bmi<=30:\n",
    "    print(\"Obesse\")\n",
    "elif bmi<=34.9:\n",
    "    print(\"Obesse I\")\n",
    "elif bmi<=39.9:\n",
    "    print(\"ObesseII\")\n",
    "else:\n",
    "    print(\"Obesse III\")\n",
    "    \n",
    "    \n",
    "    "
   ]
  },
  {
   "cell_type": "code",
   "execution_count": null,
   "metadata": {},
   "outputs": [],
   "source": []
  }
 ],
 "metadata": {
  "kernelspec": {
   "display_name": "Python 3",
   "language": "python",
   "name": "python3"
  },
  "language_info": {
   "codemirror_mode": {
    "name": "ipython",
    "version": 3
   },
   "file_extension": ".py",
   "mimetype": "text/x-python",
   "name": "python",
   "nbconvert_exporter": "python",
   "pygments_lexer": "ipython3",
   "version": "3.7.4"
  }
 },
 "nbformat": 4,
 "nbformat_minor": 2
}
