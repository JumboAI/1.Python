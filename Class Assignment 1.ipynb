{
 "cells": [
  {
   "cell_type": "code",
   "execution_count": 1,
   "metadata": {},
   "outputs": [],
   "source": [
    "class SubfieldsnAI():\n",
    "    def Subfields():\n",
    "        print(\"Sub-fields in AI are:\")\n",
    "        List=['Machine Learning', 'Neural Networks', 'Vision', 'Robotics', 'Speech Processing','Natural Language Processing']\n",
    "        for temp in List:\n",
    "            print(temp)"
   ]
  },
  {
   "cell_type": "code",
   "execution_count": 2,
   "metadata": {},
   "outputs": [
    {
     "name": "stdout",
     "output_type": "stream",
     "text": [
      "Sub-fields in AI are:\n",
      "Machine Learning\n",
      "Neural Networks\n",
      "Vision\n",
      "Robotics\n",
      "Speech Processing\n",
      "Natural Language Processing\n"
     ]
    }
   ],
   "source": [
    "SubfieldsnAI.Subfields()"
   ]
  },
  {
   "cell_type": "code",
   "execution_count": 3,
   "metadata": {},
   "outputs": [],
   "source": [
    "class OddEven():   \n",
    "    def OddEven():\n",
    "        num=int(input(\"Enter a number:\"))\n",
    "        if (num%2)==0:\n",
    "            print(num,\"Number is Even\")\n",
    "        else:\n",
    "            print(num, \"Number is Odd\") "
   ]
  },
  {
   "cell_type": "code",
   "execution_count": 4,
   "metadata": {},
   "outputs": [
    {
     "name": "stdout",
     "output_type": "stream",
     "text": [
      "Enter a number:52452\n",
      "52452 Number is Even\n"
     ]
    }
   ],
   "source": [
    "OddEven.OddEven()"
   ]
  },
  {
   "cell_type": "code",
   "execution_count": 5,
   "metadata": {},
   "outputs": [],
   "source": [
    "class ElegiblityForMarriage():\n",
    "    def Elegible():\n",
    "        gender=input(\"Your Gender:(Male/Female):\")\n",
    "        age=int(input(\"Your Age:\"))\n",
    "        if (gender==\"Male\"):\n",
    "            if(age>=21):\n",
    "                print(\"Elegible\")\n",
    "            else:\n",
    "                print(\"Not Elegible\")\n",
    "        elif (gender==\"Female\"):\n",
    "            if(age>18):\n",
    "                print(\"Elegible\")\n",
    "            else:\n",
    "                print(\"Not Elegible\")\n",
    "        else:\n",
    "            print(\"Invalid input\")            "
   ]
  },
  {
   "cell_type": "code",
   "execution_count": 6,
   "metadata": {},
   "outputs": [
    {
     "name": "stdout",
     "output_type": "stream",
     "text": [
      "Your Gender:(Male/Female):Male\n",
      "Your Age:20\n",
      "Not Elegible\n"
     ]
    }
   ],
   "source": [
    "ElegiblityForMarriage.Elegible()"
   ]
  },
  {
   "cell_type": "code",
   "execution_count": 7,
   "metadata": {},
   "outputs": [],
   "source": [
    "class FindPercent():\n",
    "    def Percentage():\n",
    "        m1=int (input(\"Subject1=\"))\n",
    "        m2=int (input(\"Subject2=\"))\n",
    "        m3=int (input(\"Subject3=\"))\n",
    "        m4=int (input(\"Subject4=\"))\n",
    "        m5=int (input(\"Subject5=\"))\n",
    "        Total=m1+m2+m3+m4+m5\n",
    "        print(\"Total:\",Total)\n",
    "        Percent=(Total/500)*100\n",
    "        print(\"Percentage:\",Percent)"
   ]
  },
  {
   "cell_type": "code",
   "execution_count": 9,
   "metadata": {},
   "outputs": [
    {
     "name": "stdout",
     "output_type": "stream",
     "text": [
      "Subject1=98\n",
      "Subject2=87\n",
      "Subject3=95\n",
      "Subject4=95\n",
      "Subject5=93\n",
      "Total: 468\n",
      "Percentage: 93.60000000000001\n"
     ]
    }
   ],
   "source": [
    "FindPercent.Percentage()"
   ]
  },
  {
   "cell_type": "code",
   "execution_count": 12,
   "metadata": {},
   "outputs": [],
   "source": [
    "class triangle():\n",
    "    def Triangle():\n",
    "        Height=int(input(\"Height:\"))\n",
    "        Breadth=int(input(\"Breadth:\"))\n",
    "        print(\"Area Formula:(Height*Breadth)/2\")\n",
    "        print(\"Area of Triangle:\",(Height*Breadth)/2)\n",
    "        Height1=int(input(\"Height1:\"))\n",
    "        Height2=int(input(\"Height2:\"))\n",
    "        Base=int (input(\"Base:\"))\n",
    "        Peri=Height1+Height2+Base\n",
    "        print (\"Perimeter formula:Height1+Height2+Base\")\n",
    "        print (\"Perimeter of Triangle:\",Peri)"
   ]
  },
  {
   "cell_type": "code",
   "execution_count": 13,
   "metadata": {},
   "outputs": [
    {
     "name": "stdout",
     "output_type": "stream",
     "text": [
      "Height:32\n",
      "Breadth:34\n",
      "Area Formula:(Height*Breadth)/2\n",
      "Area of Triangle: 544.0\n",
      "Height1:2\n",
      "Height2:4\n",
      "Base:4\n",
      "Perimeter formula:Height1+Height2+Base\n",
      "Perimeter of Triangle: 10\n"
     ]
    }
   ],
   "source": [
    "triangle.Triangle()"
   ]
  },
  {
   "cell_type": "code",
   "execution_count": null,
   "metadata": {},
   "outputs": [],
   "source": []
  }
 ],
 "metadata": {
  "kernelspec": {
   "display_name": "Python 3",
   "language": "python",
   "name": "python3"
  },
  "language_info": {
   "codemirror_mode": {
    "name": "ipython",
    "version": 3
   },
   "file_extension": ".py",
   "mimetype": "text/x-python",
   "name": "python",
   "nbconvert_exporter": "python",
   "pygments_lexer": "ipython3",
   "version": "3.7.4"
  }
 },
 "nbformat": 4,
 "nbformat_minor": 2
}
