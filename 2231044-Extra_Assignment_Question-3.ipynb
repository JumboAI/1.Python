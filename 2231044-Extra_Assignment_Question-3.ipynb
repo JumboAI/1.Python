{
 "cells": [
  {
   "cell_type": "code",
   "execution_count": 2,
   "metadata": {},
   "outputs": [
    {
     "name": "stdout",
     "output_type": "stream",
     "text": [
      "Enter the value:10\n",
      "Correct\n"
     ]
    }
   ],
   "source": [
    "value=int (input(\"Enter the value:\"))\n",
    "if(value==10):\n",
    "    print (\"Correct\")\n",
    "    "
   ]
  },
  {
   "cell_type": "code",
   "execution_count": 3,
   "metadata": {},
   "outputs": [
    {
     "name": "stdout",
     "output_type": "stream",
     "text": [
      "Enter the password:HOPE@123\n",
      "Your password is Correct\n"
     ]
    }
   ],
   "source": [
    "password=input(\"Enter the password:\")\n",
    "if (password ==\"HOPE@123\"):\n",
    "    print (\"Your password is Correct\")\n",
    "else:\n",
    "    print(\"Your password is invalid\")\n",
    "    \n",
    "    "
   ]
  },
  {
   "cell_type": "code",
   "execution_count": 6,
   "metadata": {},
   "outputs": [
    {
     "name": "stdout",
     "output_type": "stream",
     "text": [
      "Enter Your Age:9\n",
      "Children\n"
     ]
    }
   ],
   "source": [
    "age=int (input(\"Enter Your Age:\"))\n",
    "if (age<18):\n",
    "    print (\"Children\")\n",
    "elif(age<35):\n",
    "    print(\"Adult\")\n",
    "elif(age<59):\n",
    "    print (\"Citizen\")\n",
    "else:\n",
    "    print (\"Senior Citizen\")\n",
    "    "
   ]
  },
  {
   "cell_type": "code",
   "execution_count": 8,
   "metadata": {},
   "outputs": [
    {
     "name": "stdout",
     "output_type": "stream",
     "text": [
      "Enter the number 0\n",
      "zero\n"
     ]
    }
   ],
   "source": [
    "num=float(input(\"Enter the number \"))\n",
    "if(num>0):\n",
    "    print(\"No is Positive\")\n",
    "elif (num<0):\n",
    "    print(\"No is Negative\")\n",
    "else:\n",
    "    print (\"zero\")\n",
    "    \n",
    "    "
   ]
  },
  {
   "cell_type": "code",
   "execution_count": 10,
   "metadata": {},
   "outputs": [
    {
     "name": "stdout",
     "output_type": "stream",
     "text": [
      "Enter a number to check:90\n",
      "90 is  divisible by 5\n"
     ]
    }
   ],
   "source": [
    "num=int(input(\"Enter a number to check:\"))\n",
    "if (num%5)==0:\n",
    "    print(num,\"is  divisible by 5\")\n",
    "else:\n",
    "    print(num,\"is NOT divisible by 5\")\n",
    "    "
   ]
  },
  {
   "cell_type": "code",
   "execution_count": null,
   "metadata": {},
   "outputs": [],
   "source": []
  }
 ],
 "metadata": {
  "kernelspec": {
   "display_name": "Python 3",
   "language": "python",
   "name": "python3"
  },
  "language_info": {
   "codemirror_mode": {
    "name": "ipython",
    "version": 3
   },
   "file_extension": ".py",
   "mimetype": "text/x-python",
   "name": "python",
   "nbconvert_exporter": "python",
   "pygments_lexer": "ipython3",
   "version": "3.7.4"
  }
 },
 "nbformat": 4,
 "nbformat_minor": 2
}
