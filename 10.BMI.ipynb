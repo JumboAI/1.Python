{
 "cells": [
  {
   "cell_type": "code",
   "execution_count": 1,
   "metadata": {},
   "outputs": [
    {
     "name": "stdout",
     "output_type": "stream",
     "text": [
      "Enter your weight in kg:56\n",
      "Enter your height in cm:160\n"
     ]
    }
   ],
   "source": [
    "weight=float(input(\"Enter your weight in kg:\"))\n",
    "height=float(input(\"Enter your height in cm:\"))"
   ]
  },
  {
   "cell_type": "code",
   "execution_count": 2,
   "metadata": {},
   "outputs": [
    {
     "name": "stdout",
     "output_type": "stream",
     "text": [
      "Enter your weight in kg:100\n",
      "Enter your height in cm:152\n"
     ]
    }
   ],
   "source": [
    "weight=float(input(\"Enter your weight in kg:\"))\n",
    "height=float(input(\"Enter your height in cm:\"))\n",
    "BMI=weight/(height/100)**2"
   ]
  },
  {
   "cell_type": "code",
   "execution_count": 9,
   "metadata": {},
   "outputs": [
    {
     "ename": "SyntaxError",
     "evalue": "invalid syntax (<ipython-input-9-698b224db596>, line 4)",
     "output_type": "error",
     "traceback": [
      "\u001b[1;36m  File \u001b[1;32m\"<ipython-input-9-698b224db596>\"\u001b[1;36m, line \u001b[1;32m4\u001b[0m\n\u001b[1;33m    print(f\"Your BMI is:{BMI}\"))\u001b[0m\n\u001b[1;37m                               ^\u001b[0m\n\u001b[1;31mSyntaxError\u001b[0m\u001b[1;31m:\u001b[0m invalid syntax\n"
     ]
    }
   ],
   "source": [
    "weight=float(input(\"Enter your weight in kg:\"))\n",
    "height=float(input(\"Enter your height in cm:\"))\n",
    "BMI=weight/(height/100)**2\n",
    "print(f\"Your BMI is:{BMI}\"))"
   ]
  },
  {
   "cell_type": "code",
   "execution_count": 8,
   "metadata": {},
   "outputs": [
    {
     "name": "stdout",
     "output_type": "stream",
     "text": [
      "Enter your weight in kg:100\n",
      "Enter your height in cm:180\n",
      "Your BMI is:30.864197530864196\n"
     ]
    }
   ],
   "source": [
    "weight=float(input(\"Enter your weight in kg:\"))\n",
    "height=float(input(\"Enter your height in cm:\"))\n",
    "BMI=weight/(height/100)**2\n",
    "print (f\"Your BMI is:{BMI}\")\n",
    "         "
   ]
  },
  {
   "cell_type": "code",
   "execution_count": null,
   "metadata": {},
   "outputs": [],
   "source": [
    "weight=float(input(\"Enter your weight in kg:\"))\n",
    "height=float(input(\"Enter your height in cm:\"))\n",
    "BMI=weight/(height/100)**2\n",
    "print(f\"Your BMI is:{BMI}\")\n",
    "if(bmi<18.4):\n",
    "    print(\"Underweight\")   \n",
    "             "
   ]
  },
  {
   "cell_type": "code",
   "execution_count": null,
   "metadata": {},
   "outputs": [],
   "source": []
  },
  {
   "cell_type": "code",
   "execution_count": null,
   "metadata": {},
   "outputs": [],
   "source": []
  }
 ],
 "metadata": {
  "kernelspec": {
   "display_name": "Python 3",
   "language": "python",
   "name": "python3"
  },
  "language_info": {
   "codemirror_mode": {
    "name": "ipython",
    "version": 3
   },
   "file_extension": ".py",
   "mimetype": "text/x-python",
   "name": "python",
   "nbconvert_exporter": "python",
   "pygments_lexer": "ipython3",
   "version": "3.7.4"
  }
 },
 "nbformat": 4,
 "nbformat_minor": 2
}
