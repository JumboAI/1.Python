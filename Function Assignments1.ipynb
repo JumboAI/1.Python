{
 "cells": [
  {
   "cell_type": "code",
   "execution_count": 4,
   "metadata": {},
   "outputs": [],
   "source": [
    "def Subfields():\n",
    "    print('Sub-fieldsin AI are:')\n",
    "    List=['Machine Learning', 'Neural Networks','Vision','Robotics','Speech Processing', 'Natural Language Processing']\n",
    "    for temp in List:\n",
    "        print (temp)\n",
    "        "
   ]
  },
  {
   "cell_type": "code",
   "execution_count": 5,
   "metadata": {},
   "outputs": [
    {
     "name": "stdout",
     "output_type": "stream",
     "text": [
      "Sub-fieldsin AI are:\n",
      "Machine Learning\n",
      "Neural Networks\n",
      "Vision\n",
      "Robotics\n",
      "Speech Processing\n",
      "Natural Language Processing\n"
     ]
    }
   ],
   "source": [
    "Subfields()"
   ]
  },
  {
   "cell_type": "code",
   "execution_count": 10,
   "metadata": {},
   "outputs": [],
   "source": [
    "def OddEven():\n",
    "    num=int(input(\"Enter a number:\"))\n",
    "    if (num%2)==0:\n",
    "        print(num,\"Number is Even\")\n",
    "    else:\n",
    "        print(num, \"Number is Odd\") "
   ]
  },
  {
   "cell_type": "code",
   "execution_count": 11,
   "metadata": {},
   "outputs": [
    {
     "name": "stdout",
     "output_type": "stream",
     "text": [
      "Enter a number:4\n",
      "4 Number is Even\n"
     ]
    }
   ],
   "source": [
    "OddEven()"
   ]
  },
  {
   "cell_type": "code",
   "execution_count": 28,
   "metadata": {},
   "outputs": [],
   "source": [
    "def Elegible():\n",
    "    gender=input(\"Your Gender:(Male/Female):\")\n",
    "    age=int(input(\"Your Age:\"))\n",
    "    if (gender==\"Male\"):\n",
    "        if(age>=21):\n",
    "            print(\"Elegible\")\n",
    "        else:\n",
    "            print(\"Not Elegible\")\n",
    "    elif (gender==\"Female\"):\n",
    "        if(age>18):\n",
    "            print(\"Elegible\")\n",
    "        else:\n",
    "            print(\"Not Elegible\")\n",
    "    else:\n",
    "        print(\"Invalid input\")            "
   ]
  },
  {
   "cell_type": "code",
   "execution_count": 32,
   "metadata": {},
   "outputs": [
    {
     "name": "stdout",
     "output_type": "stream",
     "text": [
      "Your Gender:Male/FemaleFemale\n",
      "Your Age:50\n",
      "Elegible\n"
     ]
    }
   ],
   "source": [
    "Elegible()\n"
   ]
  },
  {
   "cell_type": "code",
   "execution_count": 35,
   "metadata": {},
   "outputs": [],
   "source": [
    "def Percentage():\n",
    "    m1=int (input(\"Subject1=\"))\n",
    "    m2=int (input(\"Subject2=\"))\n",
    "    m3=int (input(\"Subject3=\"))\n",
    "    m4=int (input(\"Subject4=\"))\n",
    "    m5=int (input(\"Subject5=\"))\n",
    "    Total=m1+m2+m3+m4+m5\n",
    "    print(\"Total:\",Total)\n",
    "    Percent=(Total/500)*100\n",
    "    print(\"Percentage:\",Percent)"
   ]
  },
  {
   "cell_type": "code",
   "execution_count": 36,
   "metadata": {},
   "outputs": [
    {
     "name": "stdout",
     "output_type": "stream",
     "text": [
      "Subject1=23\n",
      "Subject2=45\n",
      "Subject3=34\n",
      "Subject4=23\n",
      "Subject5=23\n",
      "Total: 148\n",
      "Percentage: 29.599999999999998\n"
     ]
    }
   ],
   "source": [
    "Percentage()"
   ]
  },
  {
   "cell_type": "code",
   "execution_count": 38,
   "metadata": {},
   "outputs": [],
   "source": [
    "def Triangle():\n",
    "    Height=int(input(\"Height:\"))\n",
    "    Breadth=int(input(\"Breadth:\"))\n",
    "    print(\"Area Formula:(Height*Breadth)/2\")\n",
    "    print(\"Area of Triangle:\",(Height*Breadth)/2)\n",
    "    Height1=int(input(\"Height1:\"))\n",
    "    Height2=int(input(\"Height2:\"))\n",
    "    Base=int (input(\"Base:\"))\n",
    "    Peri=Height1+Height2+Base\n",
    "    print (\"Perimeter formula:Height1+Height2+Base\")\n",
    "    print (\"Perimeter of Triangle:\",Peri)"
   ]
  },
  {
   "cell_type": "code",
   "execution_count": 39,
   "metadata": {},
   "outputs": [
    {
     "name": "stdout",
     "output_type": "stream",
     "text": [
      "Height:4\n",
      "Breadth:5\n",
      "Area Formula:(Height*Breadth)/2\n",
      "Area of Triangle: 10.0\n",
      "Height1:3\n",
      "Height2:3\n",
      "Base:4\n",
      "Perimeter formula:Height1+Height2+Base\n",
      "Perimeter of Triangle: 10\n"
     ]
    }
   ],
   "source": [
    "Triangle()"
   ]
  },
  {
   "cell_type": "code",
   "execution_count": null,
   "metadata": {},
   "outputs": [],
   "source": []
  }
 ],
 "metadata": {
  "kernelspec": {
   "display_name": "Python 3",
   "language": "python",
   "name": "python3"
  },
  "language_info": {
   "codemirror_mode": {
    "name": "ipython",
    "version": 3
   },
   "file_extension": ".py",
   "mimetype": "text/x-python",
   "name": "python",
   "nbconvert_exporter": "python",
   "pygments_lexer": "ipython3",
   "version": "3.7.4"
  }
 },
 "nbformat": 4,
 "nbformat_minor": 2
}
