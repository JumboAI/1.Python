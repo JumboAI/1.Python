{
 "cells": [
  {
   "cell_type": "code",
   "execution_count": 15,
   "metadata": {},
   "outputs": [
    {
     "name": "stdout",
     "output_type": "stream",
     "text": [
      "Enter Your Weight in kg:38\n",
      "Enter Your Height in cm:165\n",
      "Your BMI is 13.957759412304869\n",
      "Underweight\n"
     ]
    }
   ],
   "source": [
    "weight=float(input(\"Enter Your Weight in kg:\"))\n",
    "height=float(input(\"Enter Your Height in cm:\"))\n",
    "bmi= weight/(height/100)**2\n",
    "print(f\"Your BMI is {bmi}\")\n",
    "if bmi<=18.4:\n",
    "    print (\"Underweight\")\n",
    "elif bmi<=24.9:\n",
    "    print (\"Normal Range\")\n",
    "elif bmi<=29.9:\n",
    "    print(\"Overweight\")\n",
    "elif bmi<=30:\n",
    "    print(\"Obese\")\n",
    "elif bmi<=34.9:\n",
    "    print(\"Obese I\")\n",
    "elif bmi<=39.9:\n",
    "    print (\"Obese II\")\n",
    "else:\n",
    "    print(\"Obese III\")\n"
   ]
  },
  {
   "cell_type": "code",
   "execution_count": 16,
   "metadata": {},
   "outputs": [
    {
     "name": "stdout",
     "output_type": "stream",
     "text": [
      "HOPE AI\n"
     ]
    }
   ],
   "source": [
    "print(\"HOPE AI\")"
   ]
  },
  {
   "cell_type": "code",
   "execution_count": 17,
   "metadata": {},
   "outputs": [
    {
     "name": "stdout",
     "output_type": "stream",
     "text": [
      "Enter your institute name:HOPE AI\n"
     ]
    },
    {
     "data": {
      "text/plain": [
       "'HOPE AI'"
      ]
     },
     "execution_count": 17,
     "metadata": {},
     "output_type": "execute_result"
    }
   ],
   "source": [
    "input(\"Enter your institute name:\")"
   ]
  },
  {
   "cell_type": "code",
   "execution_count": null,
   "metadata": {},
   "outputs": [],
   "source": [
    "input (\"Enter your name:\")\n",
    "int (input (\"Enter your age:\"))\n",
    "input (\"Enter your School name:\")\n",
    "input (\"Enter your degree:\")"
   ]
  },
  {
   "cell_type": "raw",
   "metadata": {},
   "source": [
    "print (\"hi\")"
   ]
  },
  {
   "cell_type": "code",
   "execution_count": null,
   "metadata": {},
   "outputs": [],
   "source": []
  }
 ],
 "metadata": {
  "kernelspec": {
   "display_name": "Python 3",
   "language": "python",
   "name": "python3"
  },
  "language_info": {
   "codemirror_mode": {
    "name": "ipython",
    "version": 3
   },
   "file_extension": ".py",
   "mimetype": "text/x-python",
   "name": "python",
   "nbconvert_exporter": "python",
   "pygments_lexer": "ipython3",
   "version": "3.7.4"
  }
 },
 "nbformat": 4,
 "nbformat_minor": 2
}
