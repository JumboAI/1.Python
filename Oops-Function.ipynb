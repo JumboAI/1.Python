{
 "cells": [
  {
   "cell_type": "code",
   "execution_count": 13,
   "metadata": {},
   "outputs": [],
   "source": [
    "class  multipleFunctions():\n",
    "    def oddEven():\n",
    "        num=int(input(\"Enter the number:\"))\n",
    "        if ((num%2)==1):\n",
    "            print(\"odd number\")\n",
    "            message=\"odd number\"\n",
    "        else:\n",
    "            print(\"even number\")\n",
    "            message=\"even number\"\n",
    "        return message\n",
    "    \n",
    "    def BMI():    \n",
    "        weight=float(input(\"Enter Your Weight in kg:\"))\n",
    "        height=float(input(\"Enter Your Height in cm:\"))\n",
    "        bmi= weight/(height/100)**2\n",
    "        print(f\"Your BMI is {bmi}\")\n",
    "        if bmi<=18.4:\n",
    "            print (\"Underweight\")\n",
    "            message=\"underweight\"\n",
    "        elif bmi<=24.9:\n",
    "            print (\"Normal Range\")\n",
    "            message=\"Normal Range\"\n",
    "        elif bmi<=29.9:\n",
    "            print(\"Overweight\")\n",
    "            message=\"Overweight\"\n",
    "        elif bmi<=30:\n",
    "            print(\"Obese\")\n",
    "            message=\"Obese\"\n",
    "        elif bmi<=34.9:\n",
    "            print(\"Obese I\")\n",
    "            message=\"Obese I\"\n",
    "        elif bmi<=39.9:\n",
    "            print (\"Obese II\")\n",
    "            message=\"Obese II\"\n",
    "        else:\n",
    "            print(\"Obese III\")\n",
    "            message=\"Obese III\"\n",
    "        return message\n",
    "    "
   ]
  },
  {
   "cell_type": "code",
   "execution_count": 6,
   "metadata": {},
   "outputs": [
    {
     "name": "stdout",
     "output_type": "stream",
     "text": [
      "Enter Your Weight in kg:70\n",
      "Enter Your Height in cm:170\n",
      "Your BMI is 24.221453287197235\n",
      "Normal Range\n"
     ]
    },
    {
     "data": {
      "text/plain": [
       "'Normal Range'"
      ]
     },
     "execution_count": 6,
     "metadata": {},
     "output_type": "execute_result"
    }
   ],
   "source": [
    "multipleFunctions.BMI()\n",
    "            "
   ]
  },
  {
   "cell_type": "code",
   "execution_count": 14,
   "metadata": {},
   "outputs": [
    {
     "name": "stdout",
     "output_type": "stream",
     "text": [
      "Enter the number:3456\n",
      "even number\n"
     ]
    },
    {
     "data": {
      "text/plain": [
       "'even number'"
      ]
     },
     "execution_count": 14,
     "metadata": {},
     "output_type": "execute_result"
    }
   ],
   "source": [
    "multipleFunctions.oddEven()\n"
   ]
  },
  {
   "cell_type": "code",
   "execution_count": 12,
   "metadata": {},
   "outputs": [
    {
     "name": "stdout",
     "output_type": "stream",
     "text": [
      "Enter the number:3456\n",
      "even number\n",
      "even number\n"
     ]
    },
    {
     "data": {
      "text/plain": [
       "'even number'"
      ]
     },
     "execution_count": 12,
     "metadata": {},
     "output_type": "execute_result"
    }
   ],
   "source": [
    "multipleFunctions.oddEven()\n"
   ]
  },
  {
   "cell_type": "code",
   "execution_count": null,
   "metadata": {},
   "outputs": [],
   "source": []
  }
 ],
 "metadata": {
  "kernelspec": {
   "display_name": "Python 3",
   "language": "python",
   "name": "python3"
  },
  "language_info": {
   "codemirror_mode": {
    "name": "ipython",
    "version": 3
   },
   "file_extension": ".py",
   "mimetype": "text/x-python",
   "name": "python",
   "nbconvert_exporter": "python",
   "pygments_lexer": "ipython3",
   "version": "3.7.4"
  }
 },
 "nbformat": 4,
 "nbformat_minor": 2
}
